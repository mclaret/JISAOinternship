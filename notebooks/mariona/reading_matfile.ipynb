{
 "cells": [
  {
   "cell_type": "code",
   "execution_count": 1,
   "metadata": {},
   "outputs": [],
   "source": [
    "import h5py"
   ]
  },
  {
   "cell_type": "code",
   "execution_count": 3,
   "metadata": {},
   "outputs": [
    {
     "name": "stdout",
     "output_type": "stream",
     "text": [
      "['#refs#', 'tracks', 'warn_tracks']\n"
     ]
    }
   ],
   "source": [
    "dir='/gscratch/jisao/mclaret/GL64/Juin_500m/'\n",
    "f_tracks=dir+'eddy_tracks.mat'\n",
    "\n",
    "with h5py.File(f_tracks, 'r') as file:\n",
    "    print(list(file.keys()))"
   ]
  },
  {
   "cell_type": "code",
   "execution_count": 4,
   "metadata": {},
   "outputs": [],
   "source": [
    "with h5py.File(f_tracks, 'r') as file:\n",
    "    tracks = list(file['tracks'])"
   ]
  },
  {
   "cell_type": "code",
   "execution_count": 7,
   "metadata": {},
   "outputs": [
    {
     "data": {
      "text/plain": [
       "['Rd',\n",
       " 'aire1',\n",
       " 'aire2',\n",
       " 'aire3',\n",
       " 'calcul',\n",
       " 'dc',\n",
       " 'deta1',\n",
       " 'deta2',\n",
       " 'deta3',\n",
       " 'ellip1',\n",
       " 'ellip2',\n",
       " 'f',\n",
       " 'gama',\n",
       " 'ind',\n",
       " 'ind2',\n",
       " 'interaction',\n",
       " 'interaction2',\n",
       " 'large1',\n",
       " 'large2',\n",
       " 'nrho1',\n",
       " 'nrho2',\n",
       " 'nrho3',\n",
       " 'rmax1',\n",
       " 'rmax2',\n",
       " 'rmax3',\n",
       " 'shapes1',\n",
       " 'shapes2',\n",
       " 'shapes3',\n",
       " 'step',\n",
       " 'tau1',\n",
       " 'tau2',\n",
       " 'theta1',\n",
       " 'theta2',\n",
       " 'type',\n",
       " 'velmax1',\n",
       " 'velmax2',\n",
       " 'velmax3',\n",
       " 'weak',\n",
       " 'x1',\n",
       " 'x2',\n",
       " 'xbary1',\n",
       " 'xbary2',\n",
       " 'y1',\n",
       " 'y2',\n",
       " 'ybary1',\n",
       " 'ybary2']"
      ]
     },
     "execution_count": 7,
     "metadata": {},
     "output_type": "execute_result"
    }
   ],
   "source": [
    "tracks"
   ]
  },
  {
   "cell_type": "code",
   "execution_count": null,
   "metadata": {},
   "outputs": [],
   "source": []
  }
 ],
 "metadata": {
  "kernelspec": {
   "display_name": "Python 3",
   "language": "python",
   "name": "python3"
  },
  "language_info": {
   "codemirror_mode": {
    "name": "ipython",
    "version": 3
   },
   "file_extension": ".py",
   "mimetype": "text/x-python",
   "name": "python",
   "nbconvert_exporter": "python",
   "pygments_lexer": "ipython3",
   "version": "3.7.3"
  }
 },
 "nbformat": 4,
 "nbformat_minor": 2
}
