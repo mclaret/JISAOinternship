{
 "cells": [
  {
   "cell_type": "markdown",
   "metadata": {},
   "source": [
    "# Rotary Spectra of Areas"
   ]
  },
  {
   "cell_type": "code",
   "execution_count": 1,
   "metadata": {},
   "outputs": [],
   "source": [
    "import numpy as np\n",
    "from matplotlib import pyplot as plt\n",
    "from scipy.io import netcdf\n",
    "from scipy import signal"
   ]
  },
  {
   "cell_type": "code",
   "execution_count": 2,
   "metadata": {},
   "outputs": [],
   "source": [
    "fpath = '/gscratch/jisao/mclaret/GL64/Juin_Novembre/'\n",
    "gridU_k1 = netcdf.netcdf_file(fpath + 'GLazur64-T20_y2009m06_m11_gridU_k1.nc','r')\n",
    "gridV_k1 = netcdf.netcdf_file(fpath + 'GLazur64-T20_y2009m06_m11_gridV_k1.nc','r')\n",
    "gridU_k58 = netcdf.netcdf_file(fpath + 'GLazur64-T20_y2009m06_m11_gridU_k58.nc','r')\n",
    "gridV_k58 = netcdf.netcdf_file(fpath + 'GLazur64-T20_y2009m06_m11_gridV_k58.nc','r')"
   ]
  },
  {
   "cell_type": "code",
   "execution_count": 3,
   "metadata": {},
   "outputs": [
    {
     "name": "stdout",
     "output_type": "stream",
     "text": [
      "Bottom left corner: 2.1015625 41.2624\n",
      "Top left corner: 2.1015625 43.902092\n",
      "Top right corner: 7.9765625 43.902092\n",
      "Bottom right corner: 7.9765625 41.2624\n",
      "nav_lon shape: (170, 377)\n",
      "nav_lat shape: (170, 377)\n",
      "k1 times shape: (3648, 1, 170, 377)\n",
      "k58 times shape: (3648, 1, 170, 377)\n"
     ]
    }
   ],
   "source": [
    "print('Bottom left corner:', gridU_k1.variables['nav_lon'][0,0].copy(), gridU_k1.variables['nav_lat'][0,0].copy())\n",
    "print('Top left corner:', gridU_k1.variables['nav_lon'][-1, 0].copy(), gridU_k1.variables['nav_lat'][-1,0].copy())\n",
    "print('Top right corner:', gridU_k1.variables['nav_lon'][-1, -1].copy(), gridU_k1.variables['nav_lat'][-1, -1].copy())\n",
    "print('Bottom right corner:', gridU_k1.variables['nav_lon'][0,-1].copy(), gridU_k1.variables['nav_lat'][0,-1].copy())\n",
    "print('nav_lon shape:', gridU_k1.variables['nav_lon'].shape)\n",
    "print('nav_lat shape:', gridU_k1.variables['nav_lat'].shape)\n",
    "print('k1 times shape:', gridU_k1.variables['vozocrtx'].shape)\n",
    "print('k58 times shape:', gridU_k58.variables['vozocrtx'].shape)"
   ]
  },
  {
   "cell_type": "code",
   "execution_count": 4,
   "metadata": {},
   "outputs": [
    {
     "name": "stdout",
     "output_type": "stream",
     "text": [
      "5.5078125 at index 219\n",
      "5.5078125 at index 218\n",
      "5.4921875 at index 217\n",
      "\n",
      "6.5078125 at index 283\n",
      "6.5078125 at index 282\n",
      "6.4921875 at index 281\n",
      "\n",
      "42.512302 at index 81\n",
      "41.2624 at index 80\n",
      "41.2624 at index 79\n",
      "\n",
      "43.01213 at index 113\n",
      "41.2624 at index 112\n",
      "41.2624 at index 111\n",
      "\n"
     ]
    }
   ],
   "source": [
    "\"\"\"find indices of (5.5, 42.5) and (6.5, 43)\"\"\"\n",
    "target_lon = [5.5, 6.5]\n",
    "target_lat = [42.5, 43]\n",
    "\n",
    "# find indices of target longitudes\n",
    "for lon in target_lon:\n",
    "    nav_lon = 2.\n",
    "    i_lon = 0\n",
    "    while (nav_lon < lon):\n",
    "        nav_lon = gridU_k1.variables['nav_lon'][0,i_lon].copy()\n",
    "        i_lon += 1\n",
    "    print(nav_lon, 'at index', i_lon)\n",
    "    print(gridU_k1.variables['nav_lon'][0,i_lon-1].copy(), 'at index', i_lon-1)\n",
    "    print(gridU_k1.variables['nav_lon'][0,i_lon-2].copy(), 'at index', i_lon-2)\n",
    "    print()\n",
    "\n",
    "# find indices of target latitudes\n",
    "for lat in target_lat:\n",
    "    nav_lat = 41.\n",
    "    i_lat = 0\n",
    "    while (nav_lat < lat):\n",
    "        nav_lat = gridU_k1.variables['nav_lat'][i_lat,0].copy()\n",
    "        i_lat += 1\n",
    "    print(nav_lat, 'at index', i_lat)\n",
    "    print(gridU_k1.variables['nav_lat'][0,i_lat-1].copy(), 'at index', i_lat-1)\n",
    "    print(gridU_k1.variables['nav_lat'][0,i_lat-2].copy(), 'at index', i_lat-2)\n",
    "    print()"
   ]
  },
  {
   "cell_type": "code",
   "execution_count": 5,
   "metadata": {},
   "outputs": [],
   "source": [
    "# variables at k=1, t=0\n",
    "nav_lon = gridU_k1.variables['nav_lon'][:, :].copy()         # longitude\n",
    "nav_lat = gridU_k1.variables['nav_lat'][:, :].copy()         # latitude\n",
    "U_k1_t0 = gridU_k1.variables['vozocrtx'][0, 0, :, :].copy()  # zonal velocities at time zero"
   ]
  },
  {
   "cell_type": "code",
   "execution_count": 6,
   "metadata": {},
   "outputs": [
    {
     "data": {
      "image/png": "[encoded data removed]",
      "text/plain": [
       "<Figure size 720x432 with 2 Axes>"
      ]
     },
     "metadata": {
      "needs_background": "light"
     },
     "output_type": "display_data"
    }
   ],
   "source": [
    "\"\"\"Verify coordinate indices\"\"\"\n",
    "# prepare a figure of zonal velocities\n",
    "plt.figure(1, figsize=(10,6))\n",
    "\n",
    "# mask land with white (value = 0.0)\n",
    "U_k1_t0 = np.ma.masked_where(U_k1_t0 == 0.0, U_k1_t0)\n",
    "cmap = plt.cm.OrRd\n",
    "cmap.set_bad(color='w')\n",
    "\n",
    "# plot temperatures\n",
    "plt.contourf(nav_lon, nav_lat, U_k1_t0, extend='both')\n",
    "plt.colorbar()\n",
    "\n",
    "# format lat/long labels\n",
    "locs, labels = plt.xticks()\n",
    "Elabels = [str(loc) + '$^\\circ$E' for loc in locs]\n",
    "plt.xticks(locs[1:-1], Elabels[1:-1])\n",
    "locs, labels = plt.yticks()\n",
    "Nlabels = [str(loc) + '$^\\circ$N' for loc in locs]\n",
    "plt.yticks(locs[1:-1], Nlabels[1:-1])\n",
    "\n",
    "# plot coordinates on map\n",
    "xs = [gridU_k1.variables['nav_lon'][0,218].copy(),\n",
    "      gridU_k1.variables['nav_lon'][0,218].copy(),\n",
    "      gridU_k1.variables['nav_lon'][0,-1].copy(),\n",
    "      gridU_k1.variables['nav_lon'][0,-1].copy()]\n",
    "ys = [gridU_k1.variables['nav_lat'][0,0].copy(),\n",
    "      gridU_k1.variables['nav_lat'][81,0].copy(),\n",
    "      gridU_k1.variables['nav_lat'][81,0].copy(),\n",
    "      gridU_k1.variables['nav_lat'][0,0].copy()]\n",
    "plt.scatter(xs, ys, label='big_area')\n",
    "\n",
    "xs = [gridU_k1.variables['nav_lon'][0,283].copy(),\n",
    "      gridU_k1.variables['nav_lon'][0,283].copy(),\n",
    "      gridU_k1.variables['nav_lon'][0,-1].copy(),\n",
    "      gridU_k1.variables['nav_lon'][0,-1].copy()]\n",
    "ys = [gridU_k1.variables['nav_lat'][81,0].copy(),\n",
    "      gridU_k1.variables['nav_lat'][113,0].copy(),\n",
    "      gridU_k1.variables['nav_lat'][113,0].copy(),\n",
    "      gridU_k1.variables['nav_lat'][81,0].copy()]\n",
    "plt.scatter(xs, ys, label='small_area')\n",
    "\n",
    "# figure labels\n",
    "plt.xlabel('Longitude')\n",
    "plt.ylabel('Latitude')\n",
    "plt.legend()\n",
    "plt.show()"
   ]
  },
  {
   "cell_type": "code",
   "execution_count": 7,
   "metadata": {},
   "outputs": [
    {
     "name": "stdout",
     "output_type": "stream",
     "text": [
      "maxt =  3648\n",
      "times =  [1.000e+00 2.000e+00 3.000e+00 ... 3.646e+03 3.647e+03 3.648e+03]\n"
     ]
    }
   ],
   "source": [
    "# surface parameters\n",
    "omega = 7.2921e-5\n",
    "maxt = len(gridU_k1.variables['vozocrtx'][:, 0, 0, 0].copy())\n",
    "dt = 1.0  # 1-hour resolution\n",
    "T = (maxt-1)*dt\n",
    "times = np.arange(1,maxt+1,1) * 1.0\n",
    "print('maxt = ', maxt)\n",
    "print('times = ', times)"
   ]
  },
  {
   "cell_type": "code",
   "execution_count": 8,
   "metadata": {},
   "outputs": [
    {
     "name": "stdout",
     "output_type": "stream",
     "text": [
      "fCor = 9.737414270331705e-05\n",
      "Tip = 17.923949865336013\n",
      "N = 13038\n",
      "[29926.14885828 11680.38306655  7184.3885773  ...  3152.13041142\n",
      "  6837.31359547 10540.67153233]\n"
     ]
    }
   ],
   "source": [
    "fCor_big = 2.*omega*np.sin((gridU_k1.variables['nav_lat'][40,0].copy())/180*np.pi)  # f at center of big area; radians/sec\n",
    "Tip_big = ((1./fCor_big) / 3600) * (2*np.pi)  # hours/cycle\n",
    "print('fCor =', fCor_big)\n",
    "print('Tip =', Tip_big)\n",
    "\n",
    "# find average amplitudes of surface Fourier coefficients\n",
    "amp_k1_big = [0. for time in times]\n",
    "N = 0\n",
    "for lon in range(218, 377):\n",
    "    for lat in range(0, 81+1):\n",
    "        U = gridU_k1.variables['vozocrtx'][:, 0, lat, lon].copy()  # zonal velocities\n",
    "        V = gridV_k1.variables['vomecrty'][:, 0, lat, lon].copy()  # meridional velocities\n",
    "        \n",
    "        win = signal.tukey(len(U), 0.2)  # Tukey window (20%)\n",
    "        \n",
    "        hvel = U + 1j*V              # combine U and V\n",
    "        fc = np.fft.fft(hvel*win)    # k1 Fourier coefficients (FCs) w/ window\n",
    "        amp_k1_big += np.abs(fc)**2  # amplitude of k1 FCs\n",
    "        N += 1\n",
    "print('N =', N)\n",
    "amp_k1_big /= N\n",
    "print(amp_k1_big)\n",
    "\n",
    "fq_k1 = np.fft.fftfreq(times.shape[-1],dt)    # frequencies corresponding to each FC (cycles/h)\n",
    "fq_k1_norm_big = fq_k1*2*np.pi/fCor_big/3600  # normalized to coriolis frequency\n",
    "\n",
    "# rearrange data for plotting\n",
    "amp_k1_big = np.fft.fftshift(amp_k1_big)\n",
    "fq_k1_norm_big = np.fft.fftshift(fq_k1_norm_big)"
   ]
  },
  {
   "cell_type": "code",
   "execution_count": 9,
   "metadata": {},
   "outputs": [
    {
     "data": {
      "image/png": "[encoded data removed]",
      "text/plain": [
       "<Figure size 432x288 with 1 Axes>"
      ]
     },
     "metadata": {
      "needs_background": "light"
     },
     "output_type": "display_data"
    }
   ],
   "source": [
    "# plot rotary spectrum of big area at surface\n",
    "plt.figure()\n",
    "plt.plot(fq_k1_norm_big, amp_k1_big)\n",
    "plt.xlim(-3,3)\n",
    "#plt.ylim(10**0)\n",
    "\n",
    "# plot labels\n",
    "plt.title('Average Rotary Spectrum Across Big Area at Surface')\n",
    "plt.xlabel('Frequency')\n",
    "plt.ylabel('Energy Density')\n",
    "plt.yscale('log')\n",
    "plt.show()"
   ]
  },
  {
   "cell_type": "code",
   "execution_count": null,
   "metadata": {},
   "outputs": [
    {
     "name": "stdout",
     "output_type": "stream",
     "text": [
      "fCor = 9.904970484389346e-05\n",
      "Tip = 17.620741573587143\n"
     ]
    }
   ],
   "source": [
    "fCor_small = 2.*omega*np.sin((gridU_k1.variables['nav_lat'][97,0].copy())/180*np.pi)  # f at center of small area; radians/sec\n",
    "Tip_small = ((1./fCor_small) / 3600) * (2*np.pi)  # hours/cycle\n",
    "print('fCor =', fCor_small)\n",
    "print('Tip =', Tip_small)\n",
    "\n",
    "# find average amplitudes of surface Fourier coefficients\n",
    "amp_k1_small = [0. for time in times]\n",
    "N = 0\n",
    "for lon in range(283, 377):\n",
    "    for lat in range(81, 113+1):\n",
    "        U = gridU_k1.variables['vozocrtx'][:, 0, lat, lon].copy()  # zonal velocities\n",
    "        V = gridV_k1.variables['vomecrty'][:, 0, lat, lon].copy()  # meridional velocities\n",
    "        \n",
    "        win = signal.tukey(len(U), 0.2)  # Tukey window (20%)\n",
    "        \n",
    "        hvel = U + 1j*V                # combine U and V\n",
    "        fc = np.fft.fft(hvel*win)      # k1 Fourier coefficients (FCs) w/ window\n",
    "        amp_k1_small += np.abs(fc)**2  # amplitude of k1 FCs\n",
    "        N += 1\n",
    "print('N =', N)\n",
    "amp_k1_small /= N\n",
    "print(amp_k1_small)\n",
    "\n",
    "fq_k1 = np.fft.fftfreq(times.shape[-1],dt)        # frequencies corresponding to each FC (cycles/h)\n",
    "fq_k1_norm_small = fq_k1*2*np.pi/fCor_small/3600  # normalized to coriolis frequency\n",
    "\n",
    "# rearrange data for plotting\n",
    "amp_k1_small = np.fft.fftshift(amp_k1_small)\n",
    "fq_k1_norm_small = np.fft.fftshift(fq_k1_norm_small)"
   ]
  },
  {
   "cell_type": "code",
   "execution_count": null,
   "metadata": {},
   "outputs": [],
   "source": [
    "# plot rotary spectrum of small area at surface\n",
    "plt.figure()\n",
    "plt.plot(fq_k1_norm_small, amp_k1_small)\n",
    "plt.xlim(-3,3)\n",
    "#plt.ylim(10**0)\n",
    "\n",
    "# plot labels\n",
    "plt.title('Average Rotary Spectrum Across Small Area at Surface')\n",
    "plt.xlabel('Frequency')\n",
    "plt.ylabel('Energy Density')\n",
    "plt.yscale('log')\n",
    "plt.show()"
   ]
  },
  {
   "cell_type": "code",
   "execution_count": null,
   "metadata": {},
   "outputs": [],
   "source": [
    "# find average amplitudes of 500m Fourier coefficients\n",
    "amp_k58_big = [0. for time in times]\n",
    "N = 0\n",
    "for lon in range(218, 377):\n",
    "    for lat in range(0, 81+1):\n",
    "        U = gridU_k58.variables['vozocrtx'][:, 0, lat, lon].copy()  # zonal velocities\n",
    "        V = gridV_k58.variables['vomecrty'][:, 0, lat, lon].copy()  # meridional velocities\n",
    "        \n",
    "        win = signal.tukey(len(U), 0.2)  # Tukey window (20%)\n",
    "        \n",
    "        hvel = U + 1j*V               # combine U and V\n",
    "        fc = np.fft.fft(hvel*win)     # k58 Fourier coefficients (FCs) w/ window\n",
    "        amp_k58_big += np.abs(fc)**2  # amplitude of k58 FCs\n",
    "        N += 1\n",
    "print('N =', N)\n",
    "amp_k58_big /= N\n",
    "print(amp_k58_big)\n",
    "\n",
    "fq_k58 = np.fft.fftfreq(times.shape[-1],dt)      # frequencies corresponding to each FC (cycles/h)\n",
    "fq_k58_norm_big = fq_k58*2*np.pi/fCor_big/3600   # normalized to coriolis frequency\n",
    "\n",
    "# rearrange data for plotting\n",
    "amp_k58_big = np.fft.fftshift(amp_k58_big)\n",
    "fq_k58_norm_big = np.fft.fftshift(fq_k58_norm_big)"
   ]
  },
  {
   "cell_type": "code",
   "execution_count": null,
   "metadata": {},
   "outputs": [],
   "source": [
    "# plot rotary spectrum of big area at 500m\n",
    "plt.figure()\n",
    "plt.plot(fq_k58_norm_big, amp_k58_big)\n",
    "plt.xlim(-3,3)\n",
    "#plt.ylim(10**0)\n",
    "\n",
    "# plot labels\n",
    "plt.title('Average Rotary Spectrum Across Big Area at 500m')\n",
    "plt.xlabel('Frequency')\n",
    "plt.ylabel('Energy Density')\n",
    "plt.yscale('log')\n",
    "plt.show()"
   ]
  },
  {
   "cell_type": "code",
   "execution_count": null,
   "metadata": {},
   "outputs": [],
   "source": [
    "# find average amplitudes of 500m Fourier coefficients\n",
    "amp_k58_small = [0. for time in times]\n",
    "N = 0\n",
    "for lon in range(283, 377):\n",
    "    for lat in range(81, 113+1):\n",
    "        U = gridU_k58.variables['vozocrtx'][:, 0, lat, lon].copy()  # zonal velocities\n",
    "        V = gridV_k58.variables['vomecrty'][:, 0, lat, lon].copy()  # meridional velocities\n",
    "        \n",
    "        win = signal.tukey(len(U), 0.2)  # Tukey window (20%)\n",
    "        \n",
    "        hvel = U + 1j*V                 # combine U and V\n",
    "        fc = np.fft.fft(hvel*win)       # k58 Fourier coefficients (FCs) w/ window\n",
    "        amp_k58_small += np.abs(fc)**2  # amplitude of k58 FCs\n",
    "        N += 1\n",
    "print('N =', N)\n",
    "amp_k58_small /= N\n",
    "print(amp_k58_small)\n",
    "\n",
    "fq_k58 = np.fft.fftfreq(times.shape[-1],dt)         # frequencies corresponding to each FC (cycles/h)\n",
    "fq_k58_norm_small = fq_k58*2*np.pi/fCor_small/3600  # normalized to coriolis frequency\n",
    "\n",
    "# rearrange data for plotting\n",
    "amp_k58_small = np.fft.fftshift(amp_k58_small)\n",
    "fq_k58_norm_small = np.fft.fftshift(fq_k58_norm_small)"
   ]
  },
  {
   "cell_type": "code",
   "execution_count": null,
   "metadata": {},
   "outputs": [],
   "source": [
    "# plot rotary spectrum of small area at 500m\n",
    "plt.figure()\n",
    "plt.plot(fq_k58_norm_small, amp_k58_small)\n",
    "plt.xlim(-3,3)\n",
    "#plt.ylim(10**0)\n",
    "\n",
    "# plot labels\n",
    "plt.title('Average Rotary Spectrum Across Small Area at 500m')\n",
    "plt.xlabel('Frequency')\n",
    "plt.ylabel('Energy Density')\n",
    "plt.yscale('log')\n",
    "plt.show()"
   ]
  },
  {
   "cell_type": "code",
   "execution_count": null,
   "metadata": {},
   "outputs": [],
   "source": [
    "# plot rotary spectra across big area\n",
    "plt.figure()\n",
    "plt.plot(fq_k1_norm_big, amp_k1_big, label='Surface', alpha=0.7)\n",
    "plt.plot(fq_k58_norm_big, amp_k58_big, label='500m', alpha=0.7)\n",
    "plt.xlim(-5,5)\n",
    "#plt.ylim(10**0)\n",
    "\n",
    "# plot labels\n",
    "plt.title('Average Rotary Spectra Across Big Area')\n",
    "plt.xlabel('Frequency')\n",
    "plt.ylabel('Energy Density')\n",
    "plt.yscale('log')\n",
    "plt.legend()\n",
    "plt.show()"
   ]
  },
  {
   "cell_type": "code",
   "execution_count": null,
   "metadata": {},
   "outputs": [],
   "source": [
    "# plot rotary spectra across small area\n",
    "plt.figure()\n",
    "plt.plot(fq_k1_norm_small, amp_k1_small, label='Surface', alpha=0.7)\n",
    "plt.plot(fq_k58_norm_small, amp_k58_small, label='500m', alpha=0.7)\n",
    "plt.xlim(-3,3)\n",
    "#plt.ylim(10**0)\n",
    "\n",
    "# plot labels\n",
    "plt.title('Average Rotary Spectra Across Small Area')\n",
    "plt.xlabel('Frequency')\n",
    "plt.ylabel('Energy Density')\n",
    "plt.yscale('log')\n",
    "plt.legend()\n",
    "plt.show()"
   ]
  },
  {
   "cell_type": "code",
   "execution_count": null,
   "metadata": {},
   "outputs": [],
   "source": [
    "# Average both areas at surface\n",
    "amp_k1_both = (amp_k1_big + amp_k1_small)/2\n",
    "amp_k58_both = (amp_k58_big + amp_k58_small)/2\n",
    "\n",
    "# plot rotary spectra across big area\n",
    "plt.figure()\n",
    "plt.plot(fq_k1_norm_big, amp_k1_both, label='Surface', alpha=0.7)\n",
    "plt.plot(fq_k58_norm_big, amp_k58_both, label='500m', alpha=0.7)\n",
    "plt.xlim(-3,3)\n",
    "#plt.ylim(10**0)\n",
    "\n",
    "# plot labels\n",
    "plt.title('Average Rotary Spectra For Both Areas')\n",
    "plt.xlabel('Frequency')\n",
    "plt.ylabel('Energy Density')\n",
    "plt.yscale('log')\n",
    "plt.legend()\n",
    "plt.show()"
   ]
  }
 ],
 "metadata": {
  "kernelspec": {
   "display_name": "Python 3",
   "language": "python",
   "name": "python3"
  },
  "language_info": {
   "codemirror_mode": {
    "name": "ipython",
    "version": 3
   },
   "file_extension": ".py",
   "mimetype": "text/x-python",
   "name": "python",
   "nbconvert_exporter": "python",
   "pygments_lexer": "ipython3",
   "version": "3.7.3"
  }
 },
 "nbformat": 4,
 "nbformat_minor": 2
}
