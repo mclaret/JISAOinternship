{
 "cells": [
  {
   "cell_type": "code",
   "execution_count": 1,
   "metadata": {},
   "outputs": [],
   "source": [
    "import h5py\n",
    "import numpy as np\n",
    "from matplotlib import pyplot as plt"
   ]
  },
  {
   "cell_type": "code",
   "execution_count": 2,
   "metadata": {},
   "outputs": [
    {
     "name": "stdout",
     "output_type": "stream",
     "text": [
      "Number of eddies: 111\n"
     ]
    }
   ],
   "source": [
    "fpath_eddy = '/gscratch/jisao/mclaret/GL64/Juillet/'\n",
    "f = h5py.File(fpath_eddy + 'eddy_tracks.mat')\n",
    "\n",
    "# Arrange data into a list of dictionaries\n",
    "data = f['tracks']            # relevant variables\n",
    "varnames = list(f['tracks'])  # variable names\n",
    "ntracks = len(data['x1'])     # number of tracks (should match with length of data in 'x1')\n",
    "\n",
    "tracks = []                   # initialize list of eddy tracks\n",
    "\n",
    "# add dictionaries for each variable to the corresponding eddy index (0 - N-1)\n",
    "for itrack in range(ntracks):\n",
    "    variables = {var:[] for var in varnames}  # initialize a dictionary with each variable name\n",
    "    for var in varnames:\n",
    "        # go through each variable\n",
    "        if var[0:6] == 'shapes':\n",
    "            # translate shapes data to list of numpy arrays (one array for each time step)\n",
    "            coordinates = []                             # initialize list of coordinates\n",
    "            numSteps = len(f[data[var][itrack,0]][(0)])  # number of timesteps\n",
    "            # each timestep has its own hdf5 object reference, so append each step to a list\n",
    "            for step in range(numSteps):\n",
    "                coords = np.array(f[f[data[var][itrack,0]][(0, step)]])\n",
    "                coordinates.append(coords)\n",
    "            variables[var] = coordinates\n",
    "        else:\n",
    "            # translate data from hdf5 object reference to numpy array\n",
    "            variables[var] = np.array(f[data[var][itrack,0]][(0)])\n",
    "    tracks.append(variables)\n",
    "    \n",
    "print('Number of eddies:', len(tracks))"
   ]
  },
  {
   "cell_type": "code",
   "execution_count": 3,
   "metadata": {},
   "outputs": [
    {
     "name": "stdout",
     "output_type": "stream",
     "text": [
      "num cyclones: 53\n",
      "num anticyclones: 58\n"
     ]
    }
   ],
   "source": [
    "lifetime = 0           # lifetime to keep (in hours)\n",
    "ntracks = len(tracks)  # number of eddies\n",
    "cyclones = []          # list to hold cyclonic eddies\n",
    "anticyclones = []      # list to hold anticyclonic eddies\n",
    "nIssue = 0\n",
    "wIssue = []\n",
    "\n",
    "for i, track in enumerate(tracks):\n",
    "    #timesteps = track['step'][-1] - track['step'][0] + 1\n",
    "    if track['type'][0] == 1.:\n",
    "        # add to list of cyclonic eddies\n",
    "        cyclones.append(track)\n",
    "    if track['type'][0] == -1.:\n",
    "        # add to list of cyclonic eddies\n",
    "        anticyclones.append(track)\n",
    "print('num cyclones:', len(cyclones))\n",
    "print('num anticyclones:', len(anticyclones))"
   ]
  },
  {
   "cell_type": "code",
   "execution_count": 4,
   "metadata": {},
   "outputs": [
    {
     "name": "stdout",
     "output_type": "stream",
     "text": [
      "cyclones\n",
      "mean lifetime: 148.52830188679246 hrs\n",
      "shortest lifetime: 1.0 hrs\n",
      "longest lifetime: 371.0 hrs\n"
     ]
    },
    {
     "data": {
      "image/png": "[encoded data removed]",
      "text/plain": [
       "<Figure size 432x288 with 1 Axes>"
      ]
     },
     "metadata": {
      "needs_background": "light"
     },
     "output_type": "display_data"
    }
   ],
   "source": [
    "lftmsCyclones = []\n",
    "lftmMeanCyclones = 0\n",
    "lftmHiCyclones = 0\n",
    "lftmLoCyclones = 500\n",
    "# distMeanCyclones = 0\n",
    "# distHiCyclones = 0\n",
    "# distLoCyclones = 0\n",
    "for i, track in enumerate(cyclones):\n",
    "    lftm = track['step'][-1] - track['step'][0] + 1  # calculate lifetime\n",
    "    lftmsCyclones.append(lftm)                       # add to list for histo\n",
    "    lftmMeanCyclones += lftm                         # add to sum for mean\n",
    "    \n",
    "    # lifetime highs and lows\n",
    "    if lftm > lftmHiCyclones:\n",
    "        lftmHiCyclones = lftm\n",
    "    elif lftm < lftmLoCyclones:\n",
    "        lftmLoCyclones = lftm\n",
    "lftmMeanCyclones /= len(cyclones)\n",
    "print('cyclones')\n",
    "print('mean lifetime:', lftmMeanCyclones, 'hrs')\n",
    "print('shortest lifetime:', lftmLoCyclones, 'hrs')\n",
    "print('longest lifetime:', lftmHiCyclones, 'hrs')\n",
    "plt.hist(lftmsCyclones, bins=10, color='r')\n",
    "plt.axvline(x = lftmMeanCyclones, color='k', linewidth=2, linestyle='dashed')\n",
    "plt.title('Histogram of Cyclone Lifetimes (hrs)')\n",
    "plt.show()"
   ]
  },
  {
   "cell_type": "code",
   "execution_count": 5,
   "metadata": {},
   "outputs": [
    {
     "name": "stdout",
     "output_type": "stream",
     "text": [
      "anticyclones\n",
      "mean lifetime: 100.60344827586206 hrs\n",
      "shortest lifetime: 1.0 hrs\n",
      "longest lifetime: 371.0 hrs\n"
     ]
    },
    {
     "data": {
      "image/png": "[encoded data removed]",
      "text/plain": [
       "<Figure size 432x288 with 1 Axes>"
      ]
     },
     "metadata": {
      "needs_background": "light"
     },
     "output_type": "display_data"
    }
   ],
   "source": [
    "lftmsAnticyclones = []\n",
    "lftmMeanAnticyclones = 0\n",
    "lftmHiAnticyclones = 0\n",
    "lftmLoAnticyclones = 500\n",
    "# distMeanAnticyclones = 0\n",
    "# distHiAnticyclones = 0\n",
    "# distLoAnticyclones = 0\n",
    "for i, track in enumerate(anticyclones):\n",
    "    lftm = track['step'][-1] - track['step'][0] + 1  # calculate lifetime\n",
    "    lftmsAnticyclones.append(lftm)                       # add to list for histo\n",
    "    lftmMeanAnticyclones += lftm                         # add to sum for mean\n",
    "    \n",
    "    # lifetime highs and lows\n",
    "    if lftm > lftmHiAnticyclones:\n",
    "        lftmHiAnticyclones = lftm\n",
    "    elif lftm < lftmLoAnticyclones:\n",
    "        lftmLoAnticyclones = lftm\n",
    "lftmMeanAnticyclones /= len(anticyclones)\n",
    "\n",
    "print('anticyclones')\n",
    "print('mean lifetime:', lftmMeanAnticyclones, 'hrs')\n",
    "print('shortest lifetime:', lftmLoAnticyclones, 'hrs')\n",
    "print('longest lifetime:', lftmHiAnticyclones, 'hrs')\n",
    "plt.hist(lftmsAnticyclones, bins=10, color='b')\n",
    "plt.axvline(x = lftmMeanAnticyclones, color='k', linewidth=2, linestyle='dashed')\n",
    "plt.title('Histogram of Anticyclone Lifetimes (hrs)')\n",
    "plt.show()"
   ]
  }
 ],
 "metadata": {
  "kernelspec": {
   "display_name": "Python 3",
   "language": "python",
   "name": "python3"
  },
  "language_info": {
   "codemirror_mode": {
    "name": "ipython",
    "version": 3
   },
   "file_extension": ".py",
   "mimetype": "text/x-python",
   "name": "python",
   "nbconvert_exporter": "python",
   "pygments_lexer": "ipython3",
   "version": "3.7.3"
  }
 },
 "nbformat": 4,
 "nbformat_minor": 2
}
