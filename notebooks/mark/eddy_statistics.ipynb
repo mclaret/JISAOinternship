{
 "cells": [
  {
   "cell_type": "code",
   "execution_count": 1,
   "metadata": {},
   "outputs": [],
   "source": [
    "import h5py\n",
    "import numpy as np\n",
    "from matplotlib import pyplot as plt"
   ]
  },
  {
   "cell_type": "code",
   "execution_count": 2,
   "metadata": {},
   "outputs": [
    {
     "name": "stdout",
     "output_type": "stream",
     "text": [
      "Number of eddies: 111\n"
     ]
    }
   ],
   "source": [
    "fpath_eddy = '/gscratch/jisao/mclaret/GL64/Juillet/'\n",
    "f = h5py.File(fpath_eddy + 'eddy_tracks.mat')\n",
    "\n",
    "# Arrange data into a list of dictionaries\n",
    "data = f['tracks']            # relevant variables\n",
    "varnames = list(f['tracks'])  # variable names\n",
    "ntracks = len(data['x1'])     # number of tracks (should match with length of data in 'x1')\n",
    "\n",
    "tracks = []                   # initialize list of eddy tracks\n",
    "\n",
    "# add dictionaries for each variable to the corresponding eddy index (0 - N-1)\n",
    "for itrack in range(ntracks):\n",
    "    variables = {var:[] for var in varnames}  # initialize a dictionary with each variable name\n",
    "    for var in varnames:\n",
    "        # go through each variable\n",
    "        if var[0:6] == 'shapes':\n",
    "            # translate shapes data to list of numpy arrays (one array for each time step)\n",
    "            coordinates = []                             # initialize list of coordinates\n",
    "            numSteps = len(f[data[var][itrack,0]][(0)])  # number of timesteps\n",
    "            # each timestep has its own hdf5 object reference, so append each step to a list\n",
    "            for step in range(numSteps):\n",
    "                coords = np.array(f[f[data[var][itrack,0]][(0, step)]])\n",
    "                coordinates.append(coords)\n",
    "            variables[var] = coordinates\n",
    "        else:\n",
    "            # translate data from hdf5 object reference to numpy array\n",
    "            variables[var] = np.array(f[data[var][itrack,0]][(0)])\n",
    "    tracks.append(variables)\n",
    "    \n",
    "print('Number of eddies:', len(tracks))"
   ]
  },
  {
   "cell_type": "code",
   "execution_count": 3,
   "metadata": {},
   "outputs": [
    {
     "name": "stdout",
     "output_type": "stream",
     "text": [
      "num cyclones: 53\n",
      "num anticyclones: 58\n"
     ]
    }
   ],
   "source": [
    "lifetime = 0           # lifetime to keep (in hours)\n",
    "ntracks = len(tracks)  # number of eddies\n",
    "cyclones = []          # list to hold cyclonic eddies\n",
    "anticyclones = []      # list to hold anticyclonic eddies\n",
    "nIssue = 0\n",
    "wIssue = []\n",
    "\n",
    "for i, track in enumerate(tracks):\n",
    "    #timesteps = track['step'][-1] - track['step'][0] + 1\n",
    "    if track['type'][0] == 1.:\n",
    "        # add to list of cyclonic eddies\n",
    "        cyclones.append(track)\n",
    "    if track['type'][0] == -1.:\n",
    "        # add to list of cyclonic eddies\n",
    "        anticyclones.append(track)\n",
    "print('num cyclones:', len(cyclones))\n",
    "print('num anticyclones:', len(anticyclones))"
   ]
  },
  {
   "cell_type": "code",
   "execution_count": 4,
   "metadata": {},
   "outputs": [],
   "source": [
    "def haversine(lon1, lat1, lon2, lat2):\n",
    "    \"\"\"Calculates distance between two geographic coordinates (po1, pos2)\"\"\"\n",
    "    R = 6373.                                      # radius of Earth (in km)\n",
    "    coords = np.float64([lon1, lat1, lon2, lat2])  # ensure coords are not integers\n",
    "    lon1, lat1, lon2, lat2 = np.radians(coords)    # convert to radians\n",
    "    \n",
    "    dlon = lon2 - lon1  # distance btwn longitudes\n",
    "    dlat = lat2 - lat1  # distance btwn latitudes\n",
    "    \n",
    "    # haversine formula\n",
    "    a = np.sin(dlat / 2) ** 2 + np.cos(lat1) * np.cos(lat2) * np.sin(dlon / 2) ** 2\n",
    "    c = 2 * np.arctan2(np.sqrt(a), np.sqrt(1 - a))\n",
    "    return R*c"
   ]
  },
  {
   "cell_type": "code",
   "execution_count": 5,
   "metadata": {},
   "outputs": [
    {
     "name": "stdout",
     "output_type": "stream",
     "text": [
      "Anticyclones\n",
      "mean lifetime:       100.6 hrs\n",
      "shortest lifetime:     1.0 hrs\n",
      "longest lifetime:    371.0 hrs\n",
      "mean distance:        66.0 km\n",
      "shortest distance:     0.0 km\n",
      "furthest distance:   443.4 km\n"
     ]
    },
    {
     "data": {
      "image/png": "[encoded data removed]",
      "text/plain": [
       "<Figure size 864x288 with 2 Axes>"
      ]
     },
     "metadata": {
      "needs_background": "light"
     },
     "output_type": "display_data"
    }
   ],
   "source": [
    "lftmAnticyclones = []      # initialize list of lifetimes\n",
    "lftmMeanAnticyclones = 0   # variable to calculate mean lifetime\n",
    "lftmHiAnticyclones = 0     # longest lifetime\n",
    "lftmLoAnticyclones = 500   # shortest lifetime\n",
    "distAnticyclones = []      # initialize list of distances\n",
    "distMeanAnticyclones = 0   # variable to calculate mean distance\n",
    "distHiAnticyclones = 0     # furthest distance\n",
    "distLoAnticyclones = 1000  # shortest distance\n",
    "\n",
    "# loop through all cyclones\n",
    "for i, track in enumerate(anticyclones):\n",
    "    lftm = track['step'][-1] - track['step'][0] + 1  # calculate lifetime\n",
    "    lftmAnticyclones.append(lftm)                        # add to list for histo\n",
    "    lftmMeanAnticyclones += lftm                         # add to sum for mean\n",
    "    \n",
    "    # lifetime highs and lows\n",
    "    if lftm > lftmHiAnticyclones:\n",
    "        lftmHiAnticyclones = lftm\n",
    "    elif lftm < lftmLoAnticyclones:\n",
    "        lftmLoAnticyclones = lftm\n",
    "    \n",
    "    # calculate distance\n",
    "    dist = 0.\n",
    "    for i in range(len(track['step'])):\n",
    "        # sum distances\n",
    "        currLon = track['x1'][i]\n",
    "        currLat = track['y1'][i]\n",
    "        if i > 0:\n",
    "            dist += haversine(prevLon, prevLat, currLon, currLat)\n",
    "        prevLon = currLon\n",
    "        prevLat = currLat\n",
    "    distAnticyclones.append(dist)  # add to list for histo\n",
    "    distMeanAnticyclones += dist   # add to sum for mean\n",
    "    \n",
    "    # distance highs and lows\n",
    "    if dist > distHiAnticyclones:\n",
    "        distHiAnticyclones = dist\n",
    "    elif dist < distLoAnticyclones:\n",
    "        distLoAnticyclones = dist\n",
    "        \n",
    "# finish mean calculations\n",
    "lftmMeanAnticyclones /= len(anticyclones)\n",
    "distMeanAnticyclones /= len(anticyclones)\n",
    "\n",
    "# print results and plot histogram\n",
    "print('Anticyclones')\n",
    "print(f'mean lifetime:{round(lftmMeanAnticyclones, 1):12} hrs')\n",
    "print(f'shortest lifetime:{lftmLoAnticyclones:8} hrs')\n",
    "print(f'longest lifetime:{lftmHiAnticyclones:9} hrs')\n",
    "\n",
    "print(f'mean distance:{round(distMeanAnticyclones,1):12} km')\n",
    "print(f'shortest distance:{round(distLoAnticyclones,1):8} km')\n",
    "print(f'furthest distance:{round(distHiAnticyclones,1):8} km')\n",
    "\n",
    "fig = plt.figure(figsize=(12,4))\n",
    "ax1 = fig.add_subplot(1,2,1)\n",
    "ax1.hist(lftmAnticyclones, bins=10, color='b')\n",
    "ax1.axvline(x = lftmMeanAnticyclones, color='k', linewidth=1, linestyle='dashed')\n",
    "ax1.set_title('Histogram of Anticyclone Lifetimes (hrs)')\n",
    "ax1.set_ylabel('Count')\n",
    "\n",
    "ax2 = fig.add_subplot(1,2,2)\n",
    "ax2.hist(distAnticyclones, bins=10, color='b')\n",
    "ax2.axvline(x = distMeanAnticyclones, color='k', linewidth=1, linestyle='dashed')\n",
    "ax2.set_title('Histogram of Anticyclone Distances (km)')\n",
    "plt.show()"
   ]
  },
  {
   "cell_type": "code",
   "execution_count": 6,
   "metadata": {},
   "outputs": [
    {
     "name": "stdout",
     "output_type": "stream",
     "text": [
      "Cyclones\n",
      "mean lifetime:       148.5 hrs\n",
      "shortest lifetime:     1.0 hrs\n",
      "longest lifetime:    371.0 hrs\n",
      "mean distance:        48.5 km\n",
      "shortest distance:     0.0 km\n",
      "furthest distance:   286.4 km\n"
     ]
    },
    {
     "data": {
      "image/png": "[encoded data removed]",
      "text/plain": [
       "<Figure size 864x288 with 2 Axes>"
      ]
     },
     "metadata": {
      "needs_background": "light"
     },
     "output_type": "display_data"
    }
   ],
   "source": [
    "lftmCyclones = []      # initialize list of lifetimes\n",
    "lftmMeanCyclones = 0   # variable to calculate mean lifetime\n",
    "lftmHiCyclones = 0     # longest lifetime\n",
    "lftmLoCyclones = 500   # shortest lifetime\n",
    "distCyclones = []      # initialize list of distances\n",
    "distMeanCyclones = 0   # variable to calculate mean distance\n",
    "distHiCyclones = 0     # furthest distance\n",
    "distLoCyclones = 1000  # shortest distance\n",
    "\n",
    "# loop through all cyclones\n",
    "for i, track in enumerate(cyclones):\n",
    "    lftm = track['step'][-1] - track['step'][0] + 1  # calculate lifetime\n",
    "    lftmCyclones.append(lftm)                        # add to list for histo\n",
    "    lftmMeanCyclones += lftm                         # add to sum for mean\n",
    "    \n",
    "    # lifetime highs and lows\n",
    "    if lftm > lftmHiCyclones:\n",
    "        lftmHiCyclones = lftm\n",
    "    elif lftm < lftmLoCyclones:\n",
    "        lftmLoCyclones = lftm\n",
    "    \n",
    "    # calculate distance\n",
    "    dist = 0.\n",
    "    for i in range(len(track['step'])):\n",
    "        # sum distances\n",
    "        currLon = track['x1'][i]\n",
    "        currLat = track['y1'][i]\n",
    "        if i > 0:\n",
    "            dist += haversine(prevLon, prevLat, currLon, currLat)\n",
    "        prevLon = currLon\n",
    "        prevLat = currLat\n",
    "    distCyclones.append(dist)  # add to list for histo\n",
    "    distMeanCyclones += dist   # add to sum for mean\n",
    "    \n",
    "    # distance highs and lows\n",
    "    if dist > distHiCyclones:\n",
    "        distHiCyclones = dist\n",
    "    elif dist < distLoCyclones:\n",
    "        distLoCyclones = dist\n",
    "        \n",
    "# finish mean calculations\n",
    "lftmMeanCyclones /= len(cyclones)\n",
    "distMeanCyclones /= len(cyclones)\n",
    "\n",
    "# print results and plot histogram\n",
    "print('Cyclones')\n",
    "print(f'mean lifetime:{round(lftmMeanCyclones, 1):12} hrs')\n",
    "print(f'shortest lifetime:{lftmLoCyclones:8} hrs')\n",
    "print(f'longest lifetime:{lftmHiCyclones:9} hrs')\n",
    "\n",
    "print(f'mean distance:{round(distMeanCyclones,1):12} km')\n",
    "print(f'shortest distance:{round(distLoCyclones,1):8} km')\n",
    "print(f'furthest distance:{round(distHiCyclones,1):8} km')\n",
    "\n",
    "fig = plt.figure(figsize=(12,4))\n",
    "ax1 = fig.add_subplot(1,2,1)\n",
    "ax1.hist(lftmCyclones, bins=10, color='r')\n",
    "ax1.axvline(x = lftmMeanCyclones, color='k', linewidth=1, linestyle='dashed')\n",
    "ax1.set_title('Histogram of Cyclone Lifetimes (hrs)')\n",
    "ax1.set_ylabel('Count')\n",
    "\n",
    "ax2 = fig.add_subplot(1,2,2)\n",
    "ax2.hist(distCyclones, bins=10, color='r')\n",
    "ax2.axvline(x = distMeanCyclones, color='k', linewidth=1, linestyle='dashed')\n",
    "ax2.set_title('Histogram of Cyclone Distances (km)')\n",
    "plt.show()"
   ]
  },
  {
   "cell_type": "code",
   "execution_count": 8,
   "metadata": {},
   "outputs": [
    {
     "data": {
      "image/png": "[encoded data removed]",
      "text/plain": [
       "<Figure size 864x576 with 4 Axes>"
      ]
     },
     "metadata": {
      "needs_background": "light"
     },
     "output_type": "display_data"
    }
   ],
   "source": [
    "fig = plt.figure(figsize=(12,8))\n",
    "ax1 = fig.add_subplot(2,2,1)\n",
    "ax1.hist(lftmCyclones, bins=10, color='b')\n",
    "ax1.axvline(x = lftmMeanAnticyclones, color='k', linewidth=1, linestyle='dashed')\n",
    "ax1.set_title('Anticyclones')\n",
    "ax1.set_ylabel('Lifetime (hrs) Count')\n",
    "\n",
    "ax2 = fig.add_subplot(2,2,2)\n",
    "ax2.hist(lftmAnticyclones, bins=10, color='r')\n",
    "ax2.axvline(x = lftmMeanCyclones, color='k', linewidth=1, linestyle='dashed')\n",
    "ax2.set_title('Cyclones')\n",
    "\n",
    "ax3 = fig.add_subplot(2,2,3)\n",
    "ax3.hist(distAnticyclones, bins=10, color='b')\n",
    "ax3.axvline(x = distMeanAnticyclones, color='k', linewidth=1, linestyle='dashed')\n",
    "ax3.set_ylabel('Distances (km) Count')\n",
    "\n",
    "ax4 = fig.add_subplot(2,2,4)\n",
    "ax4.hist(distCyclones, bins=10, color='r')\n",
    "ax4.axvline(x = distMeanCyclones, color='k', linewidth=1, linestyle='dashed')\n",
    "plt.show()"
   ]
  }
 ],
 "metadata": {
  "kernelspec": {
   "display_name": "Python 3",
   "language": "python",
   "name": "python3"
  },
  "language_info": {
   "codemirror_mode": {
    "name": "ipython",
    "version": 3
   },
   "file_extension": ".py",
   "mimetype": "text/x-python",
   "name": "python",
   "nbconvert_exporter": "python",
   "pygments_lexer": "ipython3",
   "version": "3.7.3"
  }
 },
 "nbformat": 4,
 "nbformat_minor": 2
}
