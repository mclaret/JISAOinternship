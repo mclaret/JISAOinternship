{
 "cells": [
  {
   "cell_type": "markdown",
   "metadata": {},
   "source": [
    "# Rotary Spectra"
   ]
  },
  {
   "cell_type": "code",
   "execution_count": 1,
   "metadata": {},
   "outputs": [],
   "source": [
    "import numpy as np\n",
    "from matplotlib import pyplot as plt\n",
    "from scipy.io import netcdf\n",
    "from scipy import signal"
   ]
  },
  {
   "cell_type": "code",
   "execution_count": 2,
   "metadata": {},
   "outputs": [],
   "source": [
    "fpath = '/gscratch/jisao/mclaret/GL64/'\n",
    "gridU_k1 = netcdf.netcdf_file(fpath + 'GLazur64-T20_y2009m06_m11_gridU_k1.nc','r')\n",
    "gridV_k1 = netcdf.netcdf_file(fpath + 'GLazur64-T20_y2009m06_m11_gridV_k1.nc','r')\n",
    "gridU_k58 = netcdf.netcdf_file(fpath + 'GLazur64-T20_y2009m06_m11_gridU_k58.nc','r')\n",
    "gridV_k58 = netcdf.netcdf_file(fpath + 'GLazur64-T20_y2009m06_m11_gridV_k58.nc','r')"
   ]
  },
  {
   "cell_type": "code",
   "execution_count": 3,
   "metadata": {},
   "outputs": [
    {
     "name": "stdout",
     "output_type": "stream",
     "text": [
      "k1 component shapes match.\n",
      "k58 component shapes match.\n"
     ]
    }
   ],
   "source": [
    "# verify data shapes\n",
    "if gridU_k1.variables['vozocrtx'].shape == gridV_k1.variables['vomecrty'].shape:\n",
    "    print('k1 component shapes match.')\n",
    "else:\n",
    "    print('k1 component shapes do not match.')\n",
    "\n",
    "if gridU_k58.variables['vozocrtx'].shape == gridV_k58.variables['vomecrty'].shape:\n",
    "    print('k58 component shapes match.')\n",
    "else:\n",
    "    print('k58 component shapes do not match.')"
   ]
  },
  {
   "cell_type": "code",
   "execution_count": 4,
   "metadata": {},
   "outputs": [],
   "source": [
    "# coordinates to focus on\n",
    "#x=275; y=48; t0=0; t1=3648-1  # S1 eddy\n",
    "x=321; y=100; t0=0; t1=3648-1  # S2 eddy\n",
    "#x=347; y=54; t0=0; t1=3648-1  # S3 eddy\n",
    "\n",
    "# variables at k=1\n",
    "nav_lon = gridU_k1.variables['nav_lon'][y-1, x-1].copy()          # longitude\n",
    "nav_lat = gridU_k1.variables['nav_lat'][y-1, x-1].copy()          # latitude\n",
    "U_k1 = gridU_k1.variables['vozocrtx'][t0:t1, 0, y-1, x-1].copy()  # zonal velocities at time zero\n",
    "V_k1 = gridV_k1.variables['vomecrty'][t0:t1, 0, y-1, x-1].copy()  # meridional velocities at time zero\n",
    "\n",
    "# variables at k=58\n",
    "U_k58 = gridU_k58.variables['vozocrtx'][t0:t1, 0, y-1, x-1].copy()  # zonal velocities at time zero\n",
    "V_k58 = gridV_k58.variables['vomecrty'][t0:t1, 0, y-1, x-1].copy()  # meridional velocities at time zero\n",
    "\n",
    "gridU_k1.close()\n",
    "gridV_k1.close()\n",
    "gridU_k58.close()\n",
    "gridV_k58.close()"
   ]
  },
  {
   "cell_type": "code",
   "execution_count": 9,
   "metadata": {},
   "outputs": [
    {
     "name": "stdout",
     "output_type": "stream",
     "text": [
      "-0.08865395 0.079303466\n",
      "[-0.08865395  0.07930347]\n"
     ]
    }
   ],
   "source": [
    "# shape data for multidimensional fft (fft2)\n",
    "k1_dat = np.stack((U_k1, V_k1), axis=1)\n",
    "print(U_k1[0], V_k1[0])\n",
    "print(k1_dat[0])"
   ]
  },
  {
   "cell_type": "code",
   "execution_count": 10,
   "metadata": {},
   "outputs": [
    {
     "name": "stdout",
     "output_type": "stream",
     "text": [
      "maxt =  3647\n",
      "times =  [1.000e+00 2.000e+00 3.000e+00 ... 3.645e+03 3.646e+03 3.647e+03]\n"
     ]
    }
   ],
   "source": [
    "maxt = len(U_k1)\n",
    "dt = 1.0  # 1-hour resolution\n",
    "T = (maxt-1)*dt\n",
    "times = np.arange(1,maxt+1,1) * 1.0\n",
    "print('maxt = ', maxt)\n",
    "print('times = ', times)"
   ]
  },
  {
   "cell_type": "code",
   "execution_count": 12,
   "metadata": {},
   "outputs": [
    {
     "name": "stdout",
     "output_type": "stream",
     "text": [
      "fCor = 9.910805378047207e-05\n",
      "Tip = 17.610367527348455\n"
     ]
    }
   ],
   "source": [
    "omega = 7.2921e-5\n",
    "fCor = 2.*omega*np.sin((nav_lat)/180*np.pi)  # radians/sec\n",
    "Tip = ((1./fCor) / 3600) * (2*np.pi)         # hours/cycle\n",
    "\n",
    "print('fCor =', fCor)\n",
    "print('Tip =', Tip)"
   ]
  }
 ],
 "metadata": {
  "kernelspec": {
   "display_name": "Python 3",
   "language": "python",
   "name": "python3"
  },
  "language_info": {
   "codemirror_mode": {
    "name": "ipython",
    "version": 3
   },
   "file_extension": ".py",
   "mimetype": "text/x-python",
   "name": "python",
   "nbconvert_exporter": "python",
   "pygments_lexer": "ipython3",
   "version": "3.7.3"
  }
 },
 "nbformat": 4,
 "nbformat_minor": 2
}
