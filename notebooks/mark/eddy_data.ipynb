{
 "cells": [
  {
   "cell_type": "markdown",
   "metadata": {},
   "source": [
    "# Formatting Eddy Data from MATLAB File"
   ]
  },
  {
   "cell_type": "code",
   "execution_count": 1,
   "metadata": {},
   "outputs": [],
   "source": [
    "import h5py\n",
    "import numpy as np\n",
    "from matplotlib import pyplot as plt"
   ]
  },
  {
   "cell_type": "code",
   "execution_count": 2,
   "metadata": {},
   "outputs": [
    {
     "name": "stdout",
     "output_type": "stream",
     "text": [
      "['#refs#', 'tracks', 'warn_tracks']\n"
     ]
    }
   ],
   "source": [
    "fpath='/gscratch/jisao/mclaret/GL64/Juin_500m/'\n",
    "f = h5py.File(fpath + 'eddy_tracks.mat')\n",
    "print(list(f.keys()))"
   ]
  },
  {
   "cell_type": "code",
   "execution_count": 3,
   "metadata": {},
   "outputs": [
    {
     "name": "stdout",
     "output_type": "stream",
     "text": [
      "['Rd', 'aire1', 'aire2', 'aire3', 'calcul', 'dc', 'deta1', 'deta2', 'deta3', 'ellip1', 'ellip2', 'f', 'gama', 'ind', 'ind2', 'interaction', 'interaction2', 'large1', 'large2', 'nrho1', 'nrho2', 'nrho3', 'rmax1', 'rmax2', 'rmax3', 'shapes1', 'shapes2', 'shapes3', 'step', 'tau1', 'tau2', 'theta1', 'theta2', 'type', 'velmax1', 'velmax2', 'velmax3', 'weak', 'x1', 'x2', 'xbary1', 'xbary2', 'y1', 'y2', 'ybary1', 'ybary2']\n"
     ]
    }
   ],
   "source": [
    "print(list(f['tracks']))"
   ]
  },
  {
   "cell_type": "code",
   "execution_count": 39,
   "metadata": {},
   "outputs": [
    {
     "name": "stdout",
     "output_type": "stream",
     "text": [
      "<HDF5 dataset \"Kf\": shape (47, 2), type \"<f8\">\n",
      "[[ 7.90625    42.5124346 ]\n",
      " [ 7.89871818 42.52757864]\n",
      " [ 7.890625   42.54094756]\n",
      " [ 7.88789439 42.54319811]\n",
      " [ 7.875      42.55250726]\n",
      " [ 7.859375   42.55492622]\n",
      " [ 7.84375    42.55264066]\n",
      " [ 7.828125   42.54812119]\n",
      " [ 7.81536611 42.54319811]\n",
      " [ 7.8125     42.54202176]\n",
      " [ 7.796875   42.53412567]\n",
      " [ 7.78555919 42.52757864]\n",
      " [ 7.78125    42.52490148]\n",
      " [ 7.765625   42.51424777]\n",
      " [ 7.76241732 42.51195917]\n",
      " [ 7.75       42.5016898 ]\n",
      " [ 7.74318435 42.4963397 ]\n",
      " [ 7.734375   42.48703723]\n",
      " [ 7.72706847 42.48072023]\n",
      " [ 7.71875    42.4673853 ]\n",
      " [ 7.71644321 42.46510076]\n",
      " [ 7.71875    42.46227541]\n",
      " [ 7.734375   42.45297456]\n",
      " [ 7.74217319 42.44948129]\n",
      " [ 7.75       42.44834251]\n",
      " [ 7.765625   42.44459045]\n",
      " [ 7.78125    42.43857227]\n",
      " [ 7.7890754  42.43386182]\n",
      " [ 7.796875   42.43096161]\n",
      " [ 7.8125     42.42263441]\n",
      " [ 7.81895412 42.41824235]\n",
      " [ 7.828125   42.41364635]\n",
      " [ 7.84375    42.40480815]\n",
      " [ 7.84829169 42.40262288]\n",
      " [ 7.859375   42.39800163]\n",
      " [ 7.875      42.39456108]\n",
      " [ 7.890625   42.39818571]\n",
      " [ 7.89585662 42.40262288]\n",
      " [ 7.90625    42.41753739]\n",
      " [ 7.90661257 42.41824235]\n",
      " [ 7.91176908 42.43386182]\n",
      " [ 7.9143362  42.44948129]\n",
      " [ 7.91487186 42.46510076]\n",
      " [ 7.91357167 42.48072023]\n",
      " [ 7.91064852 42.4963397 ]\n",
      " [ 7.90641086 42.51195917]\n",
      " [ 7.90625    42.5124346 ]]\n"
     ]
    }
   ],
   "source": [
    "print(f[f[data['shapes1'][0,0]][(0,0)]])\n",
    "print(np.array(f[f[data['shapes1'][0,0]][(0,0)]]))"
   ]
  },
  {
   "cell_type": "code",
   "execution_count": 18,
   "metadata": {},
   "outputs": [
    {
     "name": "stdout",
     "output_type": "stream",
     "text": [
      "Number of eddies: 43\n"
     ]
    }
   ],
   "source": [
    "\"\"\"\n",
    "import h5py\n",
    "import numpy as np\n",
    "fpath='/gscratch/jisao/mclaret/GL64/Juin_500m/'\n",
    "f = h5py.File(fpath + 'eddy_tracks.mat') \"\"\"\n",
    "\n",
    "# Arrange data into a list of dictionaries\n",
    "data = f['tracks']            # relevant variables\n",
    "varnames = list(f['tracks'])  # variable names\n",
    "ntracks = len(data['x1'])     # number of tracks (should match with length of data in 'x1')\n",
    "\n",
    "tracks = []                   # initialize list of eddy tracks\n",
    "\n",
    "# add dictionaries for each variable to the corresponding eddy index (0 - N-1)\n",
    "for itrack in range(ntracks):\n",
    "    variables = {var:[] for var in varnames}  # initialize a dictionary with each variable name\n",
    "    for var in varnames:\n",
    "        # go through each variable\n",
    "        if var[0:6] == 'shapes':\n",
    "            # translate shapes data to list of numpy arrays (one array for each time step)\n",
    "            coordinates = []                             # initialize list of coordinates\n",
    "            numSteps = len(f[data[var][itrack,0]][(0)])  # number of timesteps\n",
    "            # each timestep has its own hdf5 object reference, so append each step to a list\n",
    "            for step in range(numSteps):\n",
    "                coords = np.array(f[f[data[var][itrack,0]][(0, step)]])\n",
    "                coordinates.append(coords)\n",
    "            variables[var] = coordinates\n",
    "        else:\n",
    "            # translate data from hdf5 object reference to numpy array\n",
    "            variables[var] = np.array(f[data[var][itrack,0]][(0)])\n",
    "    tracks.append(variables)\n",
    "    \n",
    "print('Number of eddies:', len(tracks))"
   ]
  },
  {
   "cell_type": "code",
   "execution_count": 37,
   "metadata": {},
   "outputs": [
    {
     "name": "stdout",
     "output_type": "stream",
     "text": [
      "[7.84375  7.84375  7.84375  7.84375  7.84375  7.84375  7.84375  7.84375\n",
      " 7.84375  7.84375  7.84375  7.84375  7.84375  7.84375  7.84375  7.84375\n",
      " 7.84375  7.84375  7.84375  7.828125 7.828125 7.828125 7.84375  7.84375 ]\n",
      "[42.44948129 42.44948129 42.46510076 42.46510076 42.46510076 42.46510076\n",
      " 42.46510076 42.46510076 42.46510076 42.44948129 42.44948129 42.44948129\n",
      " 42.44948129 42.44948129 42.44948129 42.44948129 42.44948129 42.46510076\n",
      " 42.46510076 42.48072023 42.48072023 42.48072023 42.48072023 42.48072023]\n",
      "num steps for eddy 1: 24\n",
      "num steps for eddy 43: 5\n"
     ]
    }
   ],
   "source": [
    "# verify array data translated correctly\n",
    "print(tracks[0]['x1'])\n",
    "print(tracks[0]['y1'])\n",
    "print('num steps for eddy 1:', len(tracks[0]['step']))\n",
    "print('num steps for eddy 43:', len(tracks[42]['step']))"
   ]
  },
  {
   "cell_type": "code",
   "execution_count": 14,
   "metadata": {},
   "outputs": [
    {
     "name": "stdout",
     "output_type": "stream",
     "text": [
      "number of steps: 24\n",
      "(47, 2)\n",
      "(47, 2)\n"
     ]
    },
    {
     "data": {
      "image/png": "[encoded data removed]",
      "text/plain": [
       "<Figure size 432x288 with 1 Axes>"
      ]
     },
     "metadata": {
      "needs_background": "light"
     },
     "output_type": "display_data"
    },
    {
     "name": "stdout",
     "output_type": "stream",
     "text": [
      "[7.84375  7.84375  7.84375  7.84375  7.84375  7.84375  7.84375  7.84375\n",
      " 7.84375  7.84375  7.84375  7.84375  7.84375  7.84375  7.84375  7.84375\n",
      " 7.84375  7.84375  7.84375  7.828125 7.828125 7.828125 7.84375  7.84375 ]\n",
      "[42.44948129 42.44948129 42.46510076 42.46510076 42.46510076 42.46510076\n",
      " 42.46510076 42.46510076 42.46510076 42.44948129 42.44948129 42.44948129\n",
      " 42.44948129 42.44948129 42.44948129 42.44948129 42.44948129 42.46510076\n",
      " 42.46510076 42.48072023 42.48072023 42.48072023 42.48072023 42.48072023]\n"
     ]
    }
   ],
   "source": [
    "# verify shapes data translated correctly\n",
    "print('number of steps:', len(tracks[0]['shapes1']))\n",
    "print(tracks[0]['shapes1'][0].shape)\n",
    "print(tracks[0]['shapes1'][23].shape)\n",
    "#print(tracks[0]['shapes1'][0]) # array of coordinates\n",
    "\n",
    "# plot shape at time 0\n",
    "coords = tracks[0]['shapes1'][0]\n",
    "xs, ys = coords.T\n",
    "plt.scatter(xs, ys)\n",
    "plt.scatter(tracks[0]['x1'], tracks[0]['y1'])\n",
    "plt.show()\n",
    "print(tracks[0]['x1'])\n",
    "print(tracks[0]['y1'])"
   ]
  }
 ],
 "metadata": {
  "kernelspec": {
   "display_name": "Python 3",
   "language": "python",
   "name": "python3"
  },
  "language_info": {
   "codemirror_mode": {
    "name": "ipython",
    "version": 3
   },
   "file_extension": ".py",
   "mimetype": "text/x-python",
   "name": "python",
   "nbconvert_exporter": "python",
   "pygments_lexer": "ipython3",
   "version": "3.7.3"
  }
 },
 "nbformat": 4,
 "nbformat_minor": 2
}
