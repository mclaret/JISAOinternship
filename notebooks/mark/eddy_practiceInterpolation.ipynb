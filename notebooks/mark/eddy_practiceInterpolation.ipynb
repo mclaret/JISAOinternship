{
 "cells": [
  {
   "cell_type": "code",
   "execution_count": 1,
   "metadata": {},
   "outputs": [],
   "source": [
    "import h5py\n",
    "import numpy as np\n",
    "from scipy.io import netcdf\n",
    "from scipy import signal\n",
    "from matplotlib import pyplot as plt"
   ]
  },
  {
   "cell_type": "code",
   "execution_count": 2,
   "metadata": {},
   "outputs": [
    {
     "name": "stdout",
     "output_type": "stream",
     "text": [
      "Number of eddies: 111\n"
     ]
    }
   ],
   "source": [
    "fpath_eddy = '/gscratch/jisao/mclaret/GL64/Juillet/'\n",
    "f = h5py.File(fpath_eddy + 'eddy_tracks.mat')\n",
    "\n",
    "# Arrange data into a list of dictionaries\n",
    "data = f['tracks']            # relevant variables\n",
    "varnames = list(f['tracks'])  # variable names\n",
    "ntracks = len(data['x1'])     # number of tracks (should match with length of data in 'x1')\n",
    "\n",
    "tracks = []                   # initialize list of eddy tracks\n",
    "\n",
    "# add dictionaries for each variable to the corresponding eddy index (0 - N-1)\n",
    "for itrack in range(ntracks):\n",
    "    variables = {var:[] for var in varnames}  # initialize a dictionary with each variable name\n",
    "    for var in varnames:\n",
    "        # go through each variable\n",
    "        if var[0:6] == 'shapes':\n",
    "            # translate shapes data to list of numpy arrays (one array for each time step)\n",
    "            coordinates = []                             # initialize list of coordinates\n",
    "            numSteps = len(f[data[var][itrack,0]][(0)])  # number of timesteps\n",
    "            # each timestep has its own hdf5 object reference, so append each step to a list\n",
    "            for step in range(numSteps):\n",
    "                coords = np.array(f[f[data[var][itrack,0]][(0, step)]])\n",
    "                coordinates.append(coords)\n",
    "            variables[var] = coordinates\n",
    "        else:\n",
    "            # translate data from hdf5 object reference to numpy array\n",
    "            variables[var] = np.array(f[data[var][itrack,0]][(0)])\n",
    "    tracks.append(variables)\n",
    "    \n",
    "print('Number of eddies:', len(tracks))"
   ]
  },
  {
   "cell_type": "code",
   "execution_count": 3,
   "metadata": {},
   "outputs": [
    {
     "name": "stdout",
     "output_type": "stream",
     "text": [
      "0 224.0\n",
      "2 370.0\n",
      "5 370.0\n",
      "6 370.0\n",
      "7 145.0\n",
      "10 370.0\n",
      "12 196.0\n",
      "13 275.0\n",
      "14 370.0\n",
      "17 293.0\n",
      "19 370.0\n",
      "22 161.0\n",
      "26 370.0\n",
      "28 357.0\n",
      "29 370.0\n",
      "30 231.0\n",
      "31 283.0\n",
      "33 173.0\n",
      "34 293.0\n",
      "36 172.0\n",
      "37 367.0\n",
      "38 367.0\n",
      "39 367.0\n",
      "40 307.0\n",
      "42 217.0\n",
      "45 309.0\n",
      "48 125.0\n",
      "52 312.0\n",
      "53 316.0\n",
      "54 268.0\n",
      "64 147.0\n",
      "66 123.0\n",
      "68 246.0\n",
      "70 139.0\n",
      "75 197.0\n",
      "76 172.0\n",
      "77 143.0\n",
      "79 156.0\n",
      "84 131.0\n"
     ]
    }
   ],
   "source": [
    "# save eddies that live 5 days or longer\n",
    "lifetime = 120         # lifetime (in hours)\n",
    "ntracks = len(tracks)  # number of eddies\n",
    "tracks_5days = []      # list to hold eddies that live longer than 5 days\n",
    "\n",
    "for itrack in range(ntracks):\n",
    "    timesteps = tracks[itrack]['step'][-1] - tracks[itrack]['step'][0]\n",
    "    if timesteps >= lifetime:\n",
    "        # add to 5 days list\n",
    "        tracks_5days.append(tracks[itrack])\n",
    "        print(itrack, timesteps)"
   ]
  },
  {
   "cell_type": "code",
   "execution_count": 4,
   "metadata": {},
   "outputs": [],
   "source": [
    "fpath_vel = '/gscratch/jisao/mclaret/GL64/Juillet/'\n",
    "gridU_k1 = netcdf.netcdf_file(fpath_vel + 'GLazur64-T20_y2009m07_gridU_k1.nc','r')\n",
    "gridV_k1 = netcdf.netcdf_file(fpath_vel + 'GLazur64-T20_y2009m07_gridV_k1.nc','r')\n",
    "gridU_k58 = netcdf.netcdf_file(fpath_vel + 'GLazur64-T20_y2009m07_gridU_k58.nc','r')\n",
    "gridV_k58 = netcdf.netcdf_file(fpath_vel + 'GLazur64-T20_y2009m07_gridV_k58.nc','r')"
   ]
  },
  {
   "cell_type": "code",
   "execution_count": 5,
   "metadata": {},
   "outputs": [
    {
     "name": "stdout",
     "output_type": "stream",
     "text": [
      "lowest lon: 2.1015625\n",
      "lowest lat: 41.2624\n"
     ]
    }
   ],
   "source": [
    "# lowest values along each dimension\n",
    "lowest_lon = gridU_k1.variables['nav_lon'][0, 0].copy()  # lowest longitude\n",
    "lowest_lat = gridU_k1.variables['nav_lat'][0, 0].copy()  # lowest latitude\n",
    "print('lowest lon:', lowest_lon)\n",
    "print('lowest lat:', lowest_lat)"
   ]
  },
  {
   "cell_type": "code",
   "execution_count": 6,
   "metadata": {},
   "outputs": [
    {
     "name": "stdout",
     "output_type": "stream",
     "text": [
      "maxt =  163\n",
      "times =  [  1.   2.   3.   4.   5.   6.   7.   8.   9.  10.  11.  12.  13.  14.\n",
      "  15.  16.  17.  18.  19.  20.  21.  22.  23.  24.  25.  26.  27.  28.\n",
      "  29.  30.  31.  32.  33.  34.  35.  36.  37.  38.  39.  40.  41.  42.\n",
      "  43.  44.  45.  46.  47.  48.  49.  50.  51.  52.  53.  54.  55.  56.\n",
      "  57.  58.  59.  60.  61.  62.  63.  64.  65.  66.  67.  68.  69.  70.\n",
      "  71.  72.  73.  74.  75.  76.  77.  78.  79.  80.  81.  82.  83.  84.\n",
      "  85.  86.  87.  88.  89.  90.  91.  92.  93.  94.  95.  96.  97.  98.\n",
      "  99. 100. 101. 108. 109. 110. 111. 112. 113. 114. 115. 116. 117. 118.\n",
      " 119. 120. 127. 128. 129. 130. 131. 132. 133. 134. 135. 136. 137. 146.\n",
      " 147. 148. 149. 150. 151. 152. 153. 154. 155. 156. 165. 166. 167. 168.\n",
      " 169. 170. 171. 172. 173. 183. 184. 185. 186. 187. 188. 189. 190. 191.\n",
      " 203. 204. 205. 206. 207. 208. 223. 224. 225.]\n"
     ]
    }
   ],
   "source": [
    "eddy = tracks_5days[0]  # use first eddy with lifetime > 5 days\n",
    "\n",
    "# surface parameters\n",
    "maxt = len(eddy['step'])  # num of steps where this eddy is present\n",
    "dt = 1.0                  # resolution (in hours)\n",
    "times = eddy['step']      # each timestep for this eddy\n",
    "print('maxt = ', maxt)\n",
    "print('times = ', times)"
   ]
  },
  {
   "cell_type": "code",
   "execution_count": 7,
   "metadata": {},
   "outputs": [],
   "source": [
    "alpha=0.2\n",
    "\n",
    "# Tapered cosine window\n",
    "win = signal.tukey(maxt, alpha)  # 20% of points"
   ]
  },
  {
   "cell_type": "code",
   "execution_count": 8,
   "metadata": {},
   "outputs": [],
   "source": [
    "# interpolate to eddy center and add to a list\n",
    "omega = 7.2921e-5\n",
    "amp_k1 = [0. for time in times]  # initialize list for amplitudes at k1\n",
    "hvels = []    # initialize list for hvels\n",
    "\n",
    "for i, time in enumerate(times):\n",
    "    target_lon = eddy['x1'][i]\n",
    "    target_lat = eddy['y1'][i]\n",
    "    fCor = 2.*omega*np.sin((target_lat)/180*np.pi)  # radians/sec\n",
    "    \n",
    "    lb_lon = int((target_lon - lowest_lon)/dt)  # index of lon lower bound\n",
    "    ub_lon = lb_lon+1                           # index of lon upper bound\n",
    "    lb_lat = int((target_lat - lowest_lat)/dt)  # index of lat lower bound\n",
    "    ub_lat = lb_lat+1                           # index of lat upper bound\n",
    "    \n",
    "    x = (target_lon - lowest_lon)%dt  # W2 lon\n",
    "    y = (target_lat - lowest_lat)%dt  # W2 lat\n",
    "    \n",
    "    Us = gridU_k1.variables['vozocrtx'][int(time-1), 0, lb_lat:ub_lat+1, lb_lon:ub_lon+1].copy()  # zonal velocities grid\n",
    "    Vs = gridV_k1.variables['vomecrty'][int(time-1), 0, lb_lat:ub_lat+1, lb_lon:ub_lon+1].copy()  # meridional velocities grid\n",
    "    \n",
    "    # interpolate for U and V\n",
    "    U_target = Us[0,0]*(1-x)*(1-y) + Us[1,0]*x*(1-y) + Us[0,1]*(1-x)*y + Us[1,1]*x*y\n",
    "    V_target = Vs[0,0]*(1-x)*(1-y) + Vs[1,0]*x*(1-y) + Vs[0,1]*(1-x)*y + Vs[1,1]*x*y\n",
    "    \n",
    "    hvel_target = U_target + 1j*V_target  # combine U and V\n",
    "    hvels.append(hvel_target)\n",
    "    \n",
    "fc_k1 = np.fft.fft(hvels*win) # k1 Fourier coefficients (FCs) w/ window\n",
    "amp_k1 = np.abs(fc_k1)**2     # amplitude of k1 FCs\n",
    "\n",
    "fq_k1 = np.fft.fftfreq(times.shape[-1],dt)    # frequencies corresponding to each FC (cycles/h)\n",
    "fq_k1_norm = fq_k1*2*np.pi/fCor/3600          # normalized to coriolis frequency\n",
    "\n",
    "# rearrange data for plotting\n",
    "amp_k1 = np.fft.fftshift(amp_k1)\n",
    "fq_k1_norm = np.fft.fftshift(fq_k1_norm)"
   ]
  },
  {
   "cell_type": "code",
   "execution_count": 9,
   "metadata": {},
   "outputs": [
    {
     "data": {
      "image/png": "[encoded data removed]",
      "text/plain": [
       "<Figure size 432x288 with 1 Axes>"
      ]
     },
     "metadata": {
      "needs_background": "light"
     },
     "output_type": "display_data"
    }
   ],
   "source": [
    "# plot rotary spectrum\n",
    "plt.figure()\n",
    "plt.plot(fq_k1_norm, amp_k1)\n",
    "plt.xlim(-3,3)\n",
    "#plt.ylim(10**0)\n",
    "\n",
    "# plot labels\n",
    "plt.title('Rotary Spectrum')\n",
    "plt.xlabel('Frequency')\n",
    "plt.ylabel('Energy Density')\n",
    "plt.yscale('log')\n",
    "plt.show()"
   ]
  }
 ],
 "metadata": {
  "kernelspec": {
   "display_name": "Python 3",
   "language": "python",
   "name": "python3"
  },
  "language_info": {
   "codemirror_mode": {
    "name": "ipython",
    "version": 3
   },
   "file_extension": ".py",
   "mimetype": "text/x-python",
   "name": "python",
   "nbconvert_exporter": "python",
   "pygments_lexer": "ipython3",
   "version": "3.7.3"
  }
 },
 "nbformat": 4,
 "nbformat_minor": 2
}
