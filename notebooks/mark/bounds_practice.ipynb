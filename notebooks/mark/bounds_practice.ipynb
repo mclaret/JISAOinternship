{
 "cells": [
  {
   "cell_type": "code",
   "execution_count": 1,
   "metadata": {},
   "outputs": [],
   "source": [
    "import numpy as np"
   ]
  },
  {
   "cell_type": "code",
   "execution_count": 3,
   "metadata": {},
   "outputs": [
    {
     "name": "stdout",
     "output_type": "stream",
     "text": [
      "N = 8092\n",
      "lyst = [ 20.167  20.177  20.187 ... 101.067 101.077 101.087]\n",
      "8093\n"
     ]
    }
   ],
   "source": [
    "lowest = 20.167           # lowest value  (same for both lat/long in this example)\n",
    "highest = 101.08          # highest value (same for both lat/long in this example)\n",
    "resolution = 0.01\n",
    "N = int((highest+resolution-lowest)/resolution)  # width of grid\n",
    "\n",
    "target_lat = 50.4\n",
    "target_lon = 60.37\n",
    "\n",
    "lyst = np.arange(lowest, highest+resolution, resolution)  # helper list to make lat/lon grids\n",
    "print('N =', N)\n",
    "print('lyst =', lyst)\n",
    "print(len(lyst))"
   ]
  },
  {
   "cell_type": "code",
   "execution_count": 4,
   "metadata": {},
   "outputs": [
    {
     "name": "stdout",
     "output_type": "stream",
     "text": [
      "[ 20.167  20.177  20.187 ... 101.067 101.077 101.087]\n"
     ]
    }
   ],
   "source": [
    "nav_lon = [lyst for i in range(N)]\n",
    "print(nav_lon[5])"
   ]
  },
  {
   "cell_type": "code",
   "execution_count": 5,
   "metadata": {},
   "outputs": [
    {
     "name": "stdout",
     "output_type": "stream",
     "text": [
      "[101.077 101.077 101.077 ... 101.077 101.077 101.077]\n"
     ]
    }
   ],
   "source": [
    "nav_lat = [np.full_like(lyst,lyst[i]) for i in range(N)]\n",
    "print(nav_lat[-1])"
   ]
  },
  {
   "cell_type": "code",
   "execution_count": 6,
   "metadata": {},
   "outputs": [
    {
     "name": "stdout",
     "output_type": "stream",
     "text": [
      "index of lon lower bound = 4020\n",
      "index of lon upper bound = 4021\n",
      "index of lat lower bound = 3023\n",
      "index of lat upper bound = 3024\n"
     ]
    }
   ],
   "source": [
    "# longitudinal bounds\n",
    "lb_lon = int((target_lon - lowest)/resolution)\n",
    "ub_lon = lb_lon+1\n",
    "print('index of lon lower bound =', lb_lon)\n",
    "print('index of lon upper bound =', ub_lon)\n",
    "\n",
    "# latitudinal bounds\n",
    "lb_lat = int((target_lat - lowest)/resolution)\n",
    "ub_lat = lb_lat+1\n",
    "print('index of lat lower bound =', lb_lat)\n",
    "print('index of lat upper bound =', ub_lat)"
   ]
  },
  {
   "cell_type": "code",
   "execution_count": 7,
   "metadata": {},
   "outputs": [
    {
     "name": "stdout",
     "output_type": "stream",
     "text": [
      "target = 60.37\n",
      "lon lower bound = 60.367000000006286\n",
      "lon upper bound = 60.37700000000629\n"
     ]
    }
   ],
   "source": [
    "print('target =', target_lon)\n",
    "print('lon lower bound =', nav_lon[lb_lat][lb_lon])\n",
    "print('lon upper bound =', nav_lon[ub_lat][ub_lon])"
   ]
  },
  {
   "cell_type": "code",
   "execution_count": 8,
   "metadata": {},
   "outputs": [
    {
     "name": "stdout",
     "output_type": "stream",
     "text": [
      "target = 50.4\n",
      "lat lower bound = 50.397000000004724\n",
      "lat upper bound = 50.40700000000473\n"
     ]
    }
   ],
   "source": [
    "print('target =', target_lat)\n",
    "print('lat lower bound =', nav_lat[lb_lat][lb_lon])\n",
    "print('lat upper bound =', nav_lat[ub_lat][ub_lon])"
   ]
  }
 ],
 "metadata": {
  "kernelspec": {
   "display_name": "Python 3",
   "language": "python",
   "name": "python3"
  },
  "language_info": {
   "codemirror_mode": {
    "name": "ipython",
    "version": 3
   },
   "file_extension": ".py",
   "mimetype": "text/x-python",
   "name": "python",
   "nbconvert_exporter": "python",
   "pygments_lexer": "ipython3",
   "version": "3.7.3"
  }
 },
 "nbformat": 4,
 "nbformat_minor": 2
}
